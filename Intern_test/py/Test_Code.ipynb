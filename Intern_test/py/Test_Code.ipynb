{
 "cells": [
  {
   "cell_type": "code",
   "execution_count": 1,
   "id": "cc983eb9",
   "metadata": {},
   "outputs": [],
   "source": [
    "# Importing libraries\n",
    "import ee\n",
    "import pandas as pd\n",
    "import matplotlib.pyplot as plt\n",
    "ee.Initialize() # Initalizing Google Earth Engine (GEE)"
   ]
  },
  {
   "cell_type": "code",
   "execution_count": 2,
   "id": "cfd33f16",
   "metadata": {},
   "outputs": [],
   "source": [
    "# Creating a list for Geometry of place 1 from Q Paper\n",
    "place1 = [[75.45157492160797,30.634404129904425],\n",
    "[75.4524278640747,30.63372099804389],\n",
    "[75.45236885547638,30.634399514164798],\n",
    "[75.45157492160797, 30.634404129904425]]\n",
    "\n",
    "\n",
    "# Creating a list for Geometry of place 2 from Q Paper\n",
    "place2 = [[85.85622847080231, 26.09425078918021],\n",
    "[85.85590660572052, 26.093581136401006],\n",
    "[85.85663080215454, 26.09337879451938],\n",
    "[85.85686147212981, 26.094009907326967],\n",
    "[85.85622847080231, 26.09425078918021]]\n",
    "\n",
    "# Creating a list for Geometry of place 3 from Q Paper\n",
    "place3 = [[78.66571158170699, 17.66869116558751],\n",
    "[78.6662346124649, 17.6686911655875],\n",
    "[78.6662346124649, 17.66929686130703],\n",
    "[78.66571158170699, 17.66929686130703],\n",
    "[78.66571158170699, 17.66869116558751]]"
   ]
  },
  {
   "cell_type": "code",
   "execution_count": 3,
   "id": "75323fa5",
   "metadata": {
    "scrolled": true
   },
   "outputs": [],
   "source": [
    "'''\n",
    "    Below function is written to calculate the mean MSAVI2 for each image in the image collection and \n",
    "    creating features\n",
    "'''\n",
    "\n",
    "def MSAVI2(img):  \n",
    "    nir = img.select('B8') # from Image selecting B8 band\n",
    "    \n",
    "    red = img.select('B4')  # from Image selecting B4 band\n",
    "    \n",
    "    msavi2 = img.expression(\n",
    "       '(2 * NIR + 1 - sqrt(pow((2 * NIR + 1), 2) - 8 * (NIR - RED)) ) / 2',\n",
    "        {\n",
    "         'NIR': nir,\n",
    "         'RED': red,\n",
    "         }).rename('MSAVI2') # Calculting MSAVI2 \n",
    "    \n",
    "    msavi2Value = msavi2.reduceRegion(geometry= FeatureCollection,reducer = ee.Reducer.mean()).get('MSAVI2') # Performing mean for geometry area\n",
    "    \n",
    "    return ee.Feature(None, {'MSAVI2': msavi2Value}).copyProperties(img, ['system:time_start']) #creating a feature with MSAVI2 values and date time\n"
   ]
  },
  {
   "cell_type": "code",
   "execution_count": 4,
   "id": "716725e7",
   "metadata": {},
   "outputs": [],
   "source": [
    "'''\n",
    "    Below function is written to convert feature collection to pandas dataframe\n",
    "'''\n",
    "\n",
    "def fc2df(FeatureCollection):\n",
    "    Features = FeatureCollection.getInfo()['features'] # from feature collection extracting features\n",
    "    \n",
    "    dictarr = [] # Creating a list to collect properties in the feature which consist of MSAVI2 values and System time \n",
    "    \n",
    "    for f in Features: # Iterating through each feature\n",
    "        \n",
    "        attr = f['properties'] # extracting MSAVI2 and system time from propertiesof each feature\n",
    "        \n",
    "        dictarr.append(attr) # appending to dictarr list\n",
    "        \n",
    "    df = pd.DataFrame(dictarr) # creating a dataframe from list \n",
    "    \n",
    "    return df"
   ]
  },
  {
   "cell_type": "code",
   "execution_count": 5,
   "id": "2805ee18",
   "metadata": {
    "scrolled": true
   },
   "outputs": [],
   "source": [
    "start_date = '2020-01-01' ### Start Date as mentioned in Q Paper\n",
    "end_date = '2020-06-30' ### End Date as mentioned in Q Paper\n",
    "\n",
    "\n",
    "geoms = [place1,place2,place3] ### Created a list for the 3 places geometries mentioned in Q Paper\n",
    "\n",
    "n = 1 \n",
    "for geom in geoms: ### Iterating through each place\n",
    "    FeatureCollection = ee.Geometry.Polygon(geom) ### Creating the Polygon in required format for Google Earth Engine(GEE)\n",
    "    \n",
    "    ########## Calling data for the given Start and End Date  ############\n",
    "    collection = (ee.ImageCollection('COPERNICUS/S2') # selecting sentinel 2-L1C dataset in GEE (image collection)\n",
    "                  .filterBounds(FeatureCollection) # Searching based on location\n",
    "                  .filter(ee.Filter.date(start_date, end_date)) # Extracting data between Start and End Date\n",
    "                  .filterMetadata('CLOUDY_PIXEL_PERCENTAGE', 'less_than', 50)) # Applying a cloud filter lessthan 50 %\n",
    "\n",
    "\n",
    "    ########## Calculating NDVI Mean for given geom ###################\n",
    "\n",
    "    msavi2col = collection.map(MSAVI2) # mapping to MSAVI1 function to extract mean for each image in collection\n",
    "    \n",
    "    msavi2 = fc2df(msavi2col) # calling fc2df function, converting features to dataframe\n",
    "    \n",
    "    msavi2['Date'] = pd.to_datetime(pd.to_datetime(\n",
    "        msavi2['system:time_start'], unit='ms').astype(str).str[:10]) # creating Date column and converting timestamp(ms) to datetime format\n",
    "    \n",
    "    msavi2 = msavi2.drop_duplicates(subset = ['Date']) # Dropping the redundant information\n",
    "    \n",
    "    msavi2.drop(columns = ['system:time_start'],inplace = True) # Dropping column with date in timestamp(ms)\n",
    "    \n",
    "    msavi2.rename(columns = {'MSAVI2':'place_'+str(n)},inplace = True) # renaming columns name with MSAVI2 with place name\n",
    "    \n",
    "    msavi2 = msavi2.dropna() # dropping null rows\n",
    "    \n",
    "    ############################ Plotting using matplotlib ############################\n",
    "    plt.ioff() ## Turning off the interactive mode\n",
    "    fig,ax = plt.subplots(figsize = (28,15)) # creating a fig and axis \n",
    "    ax.plot(msavi2.Date.values,msavi2[msavi2.columns[0]].values) ## plotting the MSAVI2 time series alond date x-axis \n",
    "    ax.set_title('MSAVI2 Time Series Analysis for Place '+str(n),fontsize=30) # Adding title to plot\n",
    "    plt.xlabel(\"Date\",fontsize=20) \n",
    "    plt.ylabel(\"Index Values\",fontsize=20)\n",
    "    plt.legend(['MSAVI2']) # adding legend to plot\n",
    "    plt.savefig('../images/place_'+str(n)+'.png') # saving figure to loaction in png format\n",
    "    plt.close() # closing the session to remove from memory\n",
    "    n = n+1\n"
   ]
  },
  {
   "cell_type": "code",
   "execution_count": null,
   "id": "438aab0c",
   "metadata": {},
   "outputs": [],
   "source": []
  }
 ],
 "metadata": {
  "kernelspec": {
   "display_name": "Python 3",
   "language": "python",
   "name": "python3"
  },
  "language_info": {
   "codemirror_mode": {
    "name": "ipython",
    "version": 3
   },
   "file_extension": ".py",
   "mimetype": "text/x-python",
   "name": "python",
   "nbconvert_exporter": "python",
   "pygments_lexer": "ipython3",
   "version": "3.7.10"
  }
 },
 "nbformat": 4,
 "nbformat_minor": 5
}
